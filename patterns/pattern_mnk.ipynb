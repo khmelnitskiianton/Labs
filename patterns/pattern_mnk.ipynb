{
  "nbformat": 4,
  "nbformat_minor": 0,
  "metadata": {
    "colab": {
      "provenance": []
    },
    "kernelspec": {
      "name": "python3",
      "display_name": "Python 3"
    },
    "language_info": {
      "name": "python"
    }
  },
  "cells": [
    {
      "cell_type": "code",
      "execution_count": 9,
      "metadata": {
        "id": "Wd5vu9MUtAbi",
        "colab": {
          "base_uri": "https://localhost:8080/"
        },
        "outputId": "8d17aadd-64bc-4d55-bb8c-9bb579d4d668"
      },
      "outputs": [
        {
          "output_type": "stream",
          "name": "stdout",
          "text": [
            "k =  0.00010426715151515152\n",
            "sigma_k =  1.747876178943134e-06\n"
          ]
        }
      ],
      "source": [
        "from math import *\n",
        "\n",
        "x = []\n",
        "y = []\n",
        "\n",
        "file = open('data.txt', 'r')\n",
        "while (line := file.readline()):\n",
        "  s = line.split()\n",
        "  if (len(s) != 0):\n",
        "    x.append(float(s[0].replace(',','.')))\n",
        "    y.append(float(s[1].replace(',','.')))\n",
        "\n",
        "amount = len(x)\n",
        "\n",
        "summ_xy = 0\n",
        "summ_x = 0\n",
        "summ_y = 0\n",
        "summ_x2 = 0\n",
        "summ_y2 = 0\n",
        "\n",
        "for i in range(amount):\n",
        "  summ_xy += x[i]*y[i]\n",
        "  summ_x += x[i]\n",
        "  summ_y += y[i]\n",
        "  summ_x2 += x[i]**2\n",
        "  summ_y2 += y[i]**2\n",
        "\n",
        "k = (summ_xy/amount - summ_x/amount*summ_y/amount)/(summ_x2/amount - (summ_x/amount)**2)\n",
        "\n",
        "sigma_k = 1/(sqrt(amount))*sqrt(((summ_y2/amount - (summ_y/amount)**2)/(summ_x2/amount - (summ_x/amount)**2))-k**2)\n",
        "\n",
        "print(\"k = \",k)\n",
        "print(\"sigma_k = \", sigma_k)"
      ]
    }
  ]
}